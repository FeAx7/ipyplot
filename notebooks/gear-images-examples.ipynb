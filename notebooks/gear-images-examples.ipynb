{
 "cells": [
  {
   "cell_type": "markdown",
   "metadata": {},
   "source": [
    "### Table of content:\n",
    "1. [Imports](#1.-Imports)  \n",
    "2. [Load the dataset](#2.-Load-the-dataset)  \n",
    "3. [Plotting images](#3.-Plotting-images)   \n",
    "    3.1. [Plotting using image paths](#3.1-Plotting-using-image-paths)  \n",
    "    3.2. [Plotting using PIL.Image objects](#3.2-Plotting-images-using-PIL.Image-objects)  \n",
    "    3.3. [Plotting using numpy.ndarray objects](#3.3-Plotting-using-numpy.ndarray-objects)  "
   ]
  },
  {
   "cell_type": "code",
   "execution_count": 1,
   "metadata": {
    "ExecuteTime": {
     "end_time": "2020-04-29T12:56:38.851008Z",
     "start_time": "2020-04-29T12:56:38.804222Z"
    }
   },
   "outputs": [],
   "source": [
    "%load_ext autoreload\n",
    "%autoreload 2"
   ]
  },
  {
   "cell_type": "code",
   "execution_count": 2,
   "metadata": {
    "ExecuteTime": {
     "end_time": "2020-04-29T12:57:41.027309Z",
     "start_time": "2020-04-29T12:57:33.114314Z"
    }
   },
   "outputs": [
    {
     "name": "stdout",
     "output_type": "stream",
     "text": [
      "Collecting git+https://github.com/karolzak/ipyplot\n",
      "  Cloning https://github.com/karolzak/ipyplot to c:\\users\\karol\\appdata\\local\\temp\\pip-req-build-st50f8r7\n",
      "Building wheels for collected packages: ipyplot\n",
      "  Building wheel for ipyplot (setup.py): started\n",
      "  Building wheel for ipyplot (setup.py): finished with status 'done'\n",
      "  Created wheel for ipyplot: filename=ipyplot-0.0.1-cp36-none-any.whl size=4690 sha256=5689ca05cc6ffabbdf1c5904050cfbc6bd4451f41b37487df9837f73972bfc14\n",
      "  Stored in directory: C:\\Users\\karol\\AppData\\Local\\Temp\\pip-ephem-wheel-cache-xqnjxgp7\\wheels\\1e\\7c\\d8\\88b9fa77fd2c5ed1fc1599eced6e121d76891a3c008e91df25\n",
      "Successfully built ipyplot\n",
      "Installing collected packages: ipyplot\n",
      "Successfully installed ipyplot-0.0.1\n"
     ]
    },
    {
     "name": "stderr",
     "output_type": "stream",
     "text": [
      "  Running command git clone -q https://github.com/karolzak/ipyplot 'C:\\Users\\karol\\AppData\\Local\\Temp\\pip-req-build-st50f8r7'\n"
     ]
    }
   ],
   "source": [
    "try:\n",
    "    import ipyplot\n",
    "except:\n",
    "    import sys\n",
    "#     sys.path.append('../')\n",
    "    ! {sys.executable} -m pip install git+https://github.com/karolzak/ipyplot\n",
    "    import ipyplot"
   ]
  },
  {
   "cell_type": "code",
   "execution_count": 3,
   "metadata": {
    "ExecuteTime": {
     "end_time": "2020-04-29T12:57:48.627031Z",
     "start_time": "2020-04-29T12:57:48.080305Z"
    }
   },
   "outputs": [],
   "source": [
    "import glob\n",
    "import os\n",
    "import numpy as np\n",
    "import pandas as pd\n",
    "from numpy import random\n",
    "from PIL import Image\n",
    "import urllib.request\n",
    "import zipfile"
   ]
  },
  {
   "cell_type": "markdown",
   "metadata": {},
   "source": [
    "## 2. Load the dataset\n",
    "[[back to the top](#Table-of-content:)]"
   ]
  },
  {
   "cell_type": "code",
   "execution_count": 4,
   "metadata": {
    "ExecuteTime": {
     "end_time": "2020-04-29T12:58:14.357662Z",
     "start_time": "2020-04-29T12:57:59.510207Z"
    }
   },
   "outputs": [
    {
     "name": "stdout",
     "output_type": "stream",
     "text": [
      "Downloading the data into `datasets` folder..\n",
      "Done!\n"
     ]
    }
   ],
   "source": [
    "datasets_dir = '../datasets/'\n",
    "zip_filename = 'gear_images.zip'\n",
    "\n",
    "print('Downloading the data into `datasets` folder..')\n",
    "url = 'https://privdatastorage.blob.core.windows.net/github/ipyplot/gear_images.zip'\n",
    "urllib.request.urlretrieve(url, datasets_dir + zip_filename)\n",
    "print(\"Done!\")"
   ]
  },
  {
   "cell_type": "code",
   "execution_count": 5,
   "metadata": {
    "ExecuteTime": {
     "end_time": "2020-04-29T12:58:16.023769Z",
     "start_time": "2020-04-29T12:58:14.359625Z"
    }
   },
   "outputs": [],
   "source": [
    "with zipfile.ZipFile(datasets_dir + zip_filename, 'r') as zip_ref:\n",
    "    os.makedirs(datasets_dir, exist_ok=True)\n",
    "    zip_ref.extractall(datasets_dir)"
   ]
  },
  {
   "cell_type": "code",
   "execution_count": 6,
   "metadata": {
    "ExecuteTime": {
     "end_time": "2020-04-29T12:58:24.050687Z",
     "start_time": "2020-04-29T12:58:23.976609Z"
    }
   },
   "outputs": [],
   "source": [
    "images = glob.glob(datasets_dir + 'gear_images' + '/**/*.*')\n",
    "images = [image.replace('\\\\', '/') for image in images]\n",
    "images = np.asarray(images, dtype=str) # conversion to nummpy is pretty important here"
   ]
  },
  {
   "cell_type": "code",
   "execution_count": 7,
   "metadata": {
    "ExecuteTime": {
     "end_time": "2020-04-29T12:58:24.928270Z",
     "start_time": "2020-04-29T12:58:24.870390Z"
    }
   },
   "outputs": [],
   "source": [
    "labels = [image.split('/')[-2] for image in images]\n",
    "labels = np.asarray(labels, dtype=str) # conversion to nummpy is pretty important here"
   ]
  },
  {
   "cell_type": "markdown",
   "metadata": {},
   "source": [
    "## 3. Plotting images\n",
    "### 3.1 Plotting using image paths\n",
    "[[back to the top](#Table-of-content:)]"
   ]
  },
  {
   "cell_type": "markdown",
   "metadata": {},
   "source": [
    "#### Display class representations (first image from each class)"
   ]
  },
  {
   "cell_type": "code",
   "execution_count": null,
   "metadata": {
    "ExecuteTime": {
     "end_time": "2020-04-29T12:59:02.748325Z",
     "start_time": "2020-04-29T12:59:02.678885Z"
    },
    "scrolled": false
   },
   "outputs": [],
   "source": [
    "ipyplot.plot_class_representations(images, labels, img_width=150)"
   ]
  },
  {
   "cell_type": "markdown",
   "metadata": {},
   "source": [
    "#### Display a collection of images \n",
    "Displays images based on provided list.  \n",
    "max_images param limits the number of displayed images (takes top n images only)"
   ]
  },
  {
   "cell_type": "code",
   "execution_count": null,
   "metadata": {
    "ExecuteTime": {
     "end_time": "2020-04-29T12:59:04.669312Z",
     "start_time": "2020-04-29T12:59:04.594009Z"
    }
   },
   "outputs": [],
   "source": [
    "ipyplot.plot_images(images[labels == 'tents'], max_images=30, img_width=150)"
   ]
  },
  {
   "cell_type": "markdown",
   "metadata": {},
   "source": [
    "#### Display top N images (max_imgs_per_tab) in separate tab for each class (based on provided labels)"
   ]
  },
  {
   "cell_type": "code",
   "execution_count": null,
   "metadata": {
    "ExecuteTime": {
     "end_time": "2020-04-29T12:59:13.091954Z",
     "start_time": "2020-04-29T12:59:13.021359Z"
    },
    "scrolled": false
   },
   "outputs": [],
   "source": [
    "ipyplot.plot_class_tabs(images, labels, max_imgs_per_tab=15, img_width=150)"
   ]
  },
  {
   "cell_type": "markdown",
   "metadata": {},
   "source": [
    "### 3.2 Plotting images using PIL.Image objects\n",
    "[[back to the top](#Table-of-content:)]"
   ]
  },
  {
   "cell_type": "code",
   "execution_count": null,
   "metadata": {
    "ExecuteTime": {
     "end_time": "2020-04-29T12:59:21.930580Z",
     "start_time": "2020-04-29T12:59:14.754318Z"
    }
   },
   "outputs": [],
   "source": [
    "images = [Image.open(image) for image in images]\n",
    "images = np.asarray(images, dtype=np.object)"
   ]
  },
  {
   "cell_type": "markdown",
   "metadata": {},
   "source": [
    "#### Display class representations (first image from each class)"
   ]
  },
  {
   "cell_type": "code",
   "execution_count": null,
   "metadata": {
    "ExecuteTime": {
     "end_time": "2020-04-29T12:59:22.197274Z",
     "start_time": "2020-04-29T12:59:21.932221Z"
    },
    "scrolled": true
   },
   "outputs": [],
   "source": [
    "ipyplot.plot_class_representations(images, labels, img_width=150)"
   ]
  },
  {
   "cell_type": "markdown",
   "metadata": {},
   "source": [
    "#### Display a collection of images \n",
    "Displays images based on provided list.  \n",
    "max_images param limits the number of displayed images (takes top n images only)"
   ]
  },
  {
   "cell_type": "code",
   "execution_count": null,
   "metadata": {
    "ExecuteTime": {
     "end_time": "2020-04-29T12:59:22.533432Z",
     "start_time": "2020-04-29T12:59:22.200264Z"
    }
   },
   "outputs": [],
   "source": [
    "ipyplot.plot_images(images[labels == 'tents'], max_images=20, img_width=150)"
   ]
  },
  {
   "cell_type": "markdown",
   "metadata": {},
   "source": [
    "#### Display top N images (max_imgs_per_tab) in separate tab for each class (based on provided labels)"
   ]
  },
  {
   "cell_type": "code",
   "execution_count": null,
   "metadata": {
    "ExecuteTime": {
     "end_time": "2020-04-29T12:59:25.596312Z",
     "start_time": "2020-04-29T12:59:22.537429Z"
    },
    "scrolled": false
   },
   "outputs": [],
   "source": [
    "ipyplot.plot_class_tabs(images, labels, max_imgs_per_tab=15, img_width=150)"
   ]
  },
  {
   "cell_type": "markdown",
   "metadata": {},
   "source": [
    "### 3.3 Plotting using numpy.ndarray objects  \n",
    "[[back to the top](#Table-of-content:)]"
   ]
  },
  {
   "cell_type": "code",
   "execution_count": null,
   "metadata": {
    "ExecuteTime": {
     "end_time": "2020-04-29T12:59:28.326062Z",
     "start_time": "2020-04-29T12:59:25.600311Z"
    }
   },
   "outputs": [],
   "source": [
    "images = [np.asarray(image) for image in images]\n",
    "images = np.asarray(images)\n",
    "images[0].shape"
   ]
  },
  {
   "cell_type": "markdown",
   "metadata": {},
   "source": [
    "#### Display class representations (first image from each class)"
   ]
  },
  {
   "cell_type": "code",
   "execution_count": null,
   "metadata": {
    "ExecuteTime": {
     "end_time": "2020-04-29T12:59:28.616915Z",
     "start_time": "2020-04-29T12:59:28.329030Z"
    },
    "scrolled": false
   },
   "outputs": [],
   "source": [
    "ipyplot.plot_class_representations(images, labels, img_width=150)"
   ]
  },
  {
   "cell_type": "markdown",
   "metadata": {},
   "source": [
    "#### Display a collection of images \n",
    "Displays images based on provided list.  \n",
    "max_images param limits the number of displayed images (takes top n images only)"
   ]
  },
  {
   "cell_type": "code",
   "execution_count": null,
   "metadata": {
    "ExecuteTime": {
     "end_time": "2020-04-29T12:59:28.950211Z",
     "start_time": "2020-04-29T12:59:28.618878Z"
    }
   },
   "outputs": [],
   "source": [
    "ipyplot.plot_images(images[labels == 'tents'], max_images=20, img_width=150)"
   ]
  },
  {
   "cell_type": "markdown",
   "metadata": {},
   "source": [
    "#### Display top N images (max_imgs_per_tab) in separate tab for each class (based on provided labels)"
   ]
  },
  {
   "cell_type": "code",
   "execution_count": null,
   "metadata": {
    "ExecuteTime": {
     "end_time": "2020-04-29T12:59:32.022266Z",
     "start_time": "2020-04-29T12:59:28.953205Z"
    },
    "scrolled": false
   },
   "outputs": [],
   "source": [
    "ipyplot.plot_class_tabs(images, labels, max_imgs_per_tab=15, img_width=150)"
   ]
  },
  {
   "cell_type": "code",
   "execution_count": null,
   "metadata": {},
   "outputs": [],
   "source": []
  },
  {
   "cell_type": "code",
   "execution_count": null,
   "metadata": {},
   "outputs": [],
   "source": []
  }
 ],
 "metadata": {
  "kernelspec": {
   "display_name": "Python [conda env:py36tf2gpu]",
   "language": "python",
   "name": "conda-env-py36tf2gpu-py"
  },
  "language_info": {
   "codemirror_mode": {
    "name": "ipython",
    "version": 3
   },
   "file_extension": ".py",
   "mimetype": "text/x-python",
   "name": "python",
   "nbconvert_exporter": "python",
   "pygments_lexer": "ipython3",
   "version": "3.6.9"
  }
 },
 "nbformat": 4,
 "nbformat_minor": 2
}